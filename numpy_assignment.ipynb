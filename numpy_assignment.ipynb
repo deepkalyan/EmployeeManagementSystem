{
 "cells": [
  {
   "cell_type": "code",
   "execution_count": 1,
   "id": "bc3a735f",
   "metadata": {},
   "outputs": [],
   "source": [
    "import numpy as np\n",
    "from sympy import python"
   ]
  },
  {
   "cell_type": "code",
   "execution_count": 2,
   "id": "d8713c67",
   "metadata": {},
   "outputs": [
    {
     "name": "stdout",
     "output_type": "stream",
     "text": [
      "Array: [ 1  2  3  4  5  6  7  8  9 10 11 12 13 14 15 16 17 18 19 20]\n",
      "Sum: 210\n",
      "Mean: 10.5\n",
      "Median: 10.5\n",
      "Standard Deviation: 5.766281297335398\n",
      "Indices of elements > 10: (array([10, 11, 12, 13, 14, 15, 16, 17, 18, 19]),)\n"
     ]
    }
   ],
   "source": [
    "\n",
    "arr = np.arange(1, 21)\n",
    "print(\"Array:\", arr)\n",
    "print(\"Sum:\", np.sum(arr))\n",
    "print(\"Mean:\", np.mean(arr))\n",
    "print(\"Median:\", np.median(arr))\n",
    "print(\"Standard Deviation:\", np.std(arr))\n",
    "indices = np.where(arr > 10)\n",
    "print(\"Indices of elements > 10:\", indices)\n",
    "\n"
   ]
  },
  {
   "cell_type": "code",
   "execution_count": 3,
   "id": "1c0f688c",
   "metadata": {},
   "outputs": [
    {
     "name": "stdout",
     "output_type": "stream",
     "text": [
      "2D Array:\n",
      " [[ 1  2  3  4]\n",
      " [ 5  6  7  8]\n",
      " [ 9 10 11 12]\n",
      " [13 14 15 16]]\n",
      "Transpose:\n",
      " [[ 1  5  9 13]\n",
      " [ 2  6 10 14]\n",
      " [ 3  7 11 15]\n",
      " [ 4  8 12 16]]\n",
      "Row-wise Sum: [10 26 42 58]\n",
      "Column-wise Sum: [28 32 36 40]\n"
     ]
    }
   ],
   "source": [
    "\n",
    "\n",
    "\n",
    "\n",
    "arr2d = np.arange(1, 17).reshape(4, 4)\n",
    "print(\"2D Array:\\n\", arr2d)\n",
    "print(\"Transpose:\\n\", arr2d.T)\n",
    "print(\"Row-wise Sum:\", np.sum(arr2d, axis=1))\n",
    "print(\"Column-wise Sum:\", np.sum(arr2d, axis=0))\n",
    "\n"
   ]
  },
  {
   "cell_type": "code",
   "execution_count": 4,
   "id": "b390455c",
   "metadata": {},
   "outputs": [
    {
     "name": "stdout",
     "output_type": "stream",
     "text": [
      "Array A:\n",
      " [[ 7 14  4]\n",
      " [16  3 15]\n",
      " [ 7 19 10]]\n",
      "Array B:\n",
      " [[ 9 16  4]\n",
      " [ 3  5  1]\n",
      " [11 12 17]]\n",
      "Addition:\n",
      " [[16 30  8]\n",
      " [19  8 16]\n",
      " [18 31 27]]\n",
      "Subtraction:\n",
      " [[-2 -2  0]\n",
      " [13 -2 14]\n",
      " [-4  7 -7]]\n",
      "Multiplication:\n",
      " [[ 63 224  16]\n",
      " [ 48  15  15]\n",
      " [ 77 228 170]]\n",
      "Dot Product:\n",
      " [[149 230 110]\n",
      " [318 451 322]\n",
      " [230 327 217]]\n"
     ]
    }
   ],
   "source": [
    "\n",
    "A = np.random.randint(1, 21, (3, 3))\n",
    "B = np.random.randint(1, 21, (3, 3))\n",
    "print(\"Array A:\\n\", A)\n",
    "print(\"Array B:\\n\", B)\n",
    "print(\"Addition:\\n\", A + B)\n",
    "print(\"Subtraction:\\n\", A - B)\n",
    "print(\"Multiplication:\\n\", A * B)\n",
    "print(\"Dot Product:\\n\", np.dot(A, B))\n"
   ]
  },
  {
   "cell_type": "code",
   "execution_count": 5,
   "id": "bba41eca",
   "metadata": {},
   "outputs": [
    {
     "name": "stdout",
     "output_type": "stream",
     "text": [
      "Reshaped 3x4 Array:\n",
      " [[ 1  2  3  4]\n",
      " [ 5  6  7  8]\n",
      " [ 9 10 11 12]]\n",
      "Sliced Array:\n",
      " [[3 4]\n",
      " [7 8]]\n"
     ]
    }
   ],
   "source": [
    "\n",
    "arr1d = np.arange(1, 13)\n",
    "arr2d_reshaped = arr1d.reshape(3, 4)\n",
    "print(\"Reshaped 3x4 Array:\\n\", arr2d_reshaped)\n",
    "print(\"Sliced Array:\\n\", arr2d_reshaped[:2, -2:])\n"
   ]
  }
 ],
 "metadata": {
  "kernelspec": {
   "display_name": "base",
   "language": "python",
   "name": "python3"
  },
  "language_info": {
   "codemirror_mode": {
    "name": "ipython",
    "version": 3
   },
   "file_extension": ".py",
   "mimetype": "text/x-python",
   "name": "python",
   "nbconvert_exporter": "python",
   "pygments_lexer": "ipython3",
   "version": "3.13.5"
  }
 },
 "nbformat": 4,
 "nbformat_minor": 5
}
