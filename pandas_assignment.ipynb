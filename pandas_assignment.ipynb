{
 "cells": [
  {
   "cell_type": "markdown",
   "id": "21d77d28",
   "metadata": {},
   "source": []
  },
  {
   "cell_type": "code",
   "execution_count": 1,
   "id": "e915dbf2",
   "metadata": {},
   "outputs": [],
   "source": [
    "\n",
    "\n",
    "import pandas as pd\n"
   ]
  },
  {
   "cell_type": "code",
   "execution_count": 2,
   "id": "214f89ae",
   "metadata": {},
   "outputs": [
    {
     "name": "stdout",
     "output_type": "stream",
     "text": [
      "      Name  Age Department  Salary\n",
      "0    Alice   24         HR   45000\n",
      "1      Bob   27    Finance   54000\n",
      "2  Charlie   22         IT   50000\n",
      "3    Diana   32  Marketing   62000\n",
      "4      Eve   29         HR   47000\n",
      "             Age        Salary\n",
      "count   5.000000      5.000000\n",
      "mean   26.800000  51600.000000\n",
      "std     3.962323   6730.527468\n",
      "min    22.000000  45000.000000\n",
      "25%    24.000000  47000.000000\n",
      "50%    27.000000  50000.000000\n",
      "75%    29.000000  54000.000000\n",
      "max    32.000000  62000.000000\n",
      "Average HR Salary: 46000.0\n"
     ]
    }
   ],
   "source": [
    "\n",
    "\n",
    "data = {\n",
    "    'Name': ['Alice', 'Bob', 'Charlie', 'Diana', 'Eve'],\n",
    "    'Age': [24, 27, 22, 32, 29],\n",
    "    'Department': ['HR', 'Finance', 'IT', 'Marketing', 'HR'],\n",
    "    'Salary': [45000, 54000, 50000, 62000, 47000]\n",
    "}\n",
    "df = pd.DataFrame(data)\n",
    "print(df.head())\n",
    "print(df[['Age', 'Salary']].describe())\n",
    "print(\"Average HR Salary:\", df[df['Department'] == 'HR']['Salary'].mean())\n",
    "\n",
    "\n"
   ]
  },
  {
   "cell_type": "code",
   "execution_count": 3,
   "id": "48527084",
   "metadata": {},
   "outputs": [
    {
     "name": "stdout",
     "output_type": "stream",
     "text": [
      "      Name  Age Department  Salary   Bonus\n",
      "0    Alice   24         HR   45000  4500.0\n",
      "1      Bob   27    Finance   54000  5400.0\n",
      "2  Charlie   22         IT   50000  5000.0\n",
      "3    Diana   32  Marketing   62000  6200.0\n",
      "4      Eve   29         HR   47000  4700.0\n"
     ]
    }
   ],
   "source": [
    "\n",
    "df['Bonus'] = df['Salary'] * 0.10\n",
    "print(df)\n",
    "\n"
   ]
  },
  {
   "cell_type": "code",
   "execution_count": 4,
   "id": "4c701ca4",
   "metadata": {},
   "outputs": [
    {
     "name": "stdout",
     "output_type": "stream",
     "text": [
      "  Name  Age Department  Salary   Bonus\n",
      "1  Bob   27    Finance   54000  5400.0\n",
      "4  Eve   29         HR   47000  4700.0\n"
     ]
    }
   ],
   "source": [
    "\n",
    "filtered_df = df[(df['Age'] >= 25) & (df['Age'] <= 30)]\n",
    "print(filtered_df)\n",
    "\n"
   ]
  },
  {
   "cell_type": "code",
   "execution_count": 5,
   "id": "2fb9f54b",
   "metadata": {},
   "outputs": [
    {
     "name": "stdout",
     "output_type": "stream",
     "text": [
      "Department\n",
      "Finance      54000.0\n",
      "HR           46000.0\n",
      "IT           50000.0\n",
      "Marketing    62000.0\n",
      "Name: Salary, dtype: float64\n"
     ]
    }
   ],
   "source": [
    "\n",
    "dept_avg_salary = df.groupby('Department')['Salary'].mean()\n",
    "print(dept_avg_salary)\n",
    "\n",
    "\n"
   ]
  },
  {
   "cell_type": "code",
   "execution_count": 6,
   "id": "b9d5a7c6",
   "metadata": {},
   "outputs": [
    {
     "name": "stdout",
     "output_type": "stream",
     "text": [
      "      Name  Age Department  Salary   Bonus\n",
      "0    Alice   24         HR   45000  4500.0\n",
      "4      Eve   29         HR   47000  4700.0\n",
      "2  Charlie   22         IT   50000  5000.0\n",
      "1      Bob   27    Finance   54000  5400.0\n",
      "3    Diana   32  Marketing   62000  6200.0\n"
     ]
    }
   ],
   "source": [
    "\n",
    "sorted_df = df.sort_values(by='Salary', ascending=True)\n",
    "print(sorted_df)\n",
    "sorted_df.to_csv('sorted_employees.csv', index=False)\n",
    "\n"
   ]
  }
 ],
 "metadata": {
  "kernelspec": {
   "display_name": "base",
   "language": "python",
   "name": "python3"
  },
  "language_info": {
   "codemirror_mode": {
    "name": "ipython",
    "version": 3
   },
   "file_extension": ".py",
   "mimetype": "text/x-python",
   "name": "python",
   "nbconvert_exporter": "python",
   "pygments_lexer": "ipython3",
   "version": "3.13.5"
  }
 },
 "nbformat": 4,
 "nbformat_minor": 5
}
